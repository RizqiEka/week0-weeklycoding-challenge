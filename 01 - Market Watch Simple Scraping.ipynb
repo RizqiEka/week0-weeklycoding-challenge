{
 "metadata": {
  "language_info": {
   "codemirror_mode": {
    "name": "ipython",
    "version": 3
   },
   "file_extension": ".py",
   "mimetype": "text/x-python",
   "name": "python",
   "nbconvert_exporter": "python",
   "pygments_lexer": "ipython3",
   "version": "3.7.6-final"
  },
  "orig_nbformat": 2,
  "kernelspec": {
   "name": "python3",
   "display_name": "Python 3",
   "language": "python"
  }
 },
 "nbformat": 4,
 "nbformat_minor": 2,
 "cells": [
  {
   "cell_type": "code",
   "execution_count": 12,
   "metadata": {},
   "outputs": [],
   "source": [
    "#Import Required Library\n",
    "\n",
    "import requests\n",
    "from bs4 import BeautifulSoup"
   ]
  },
  {
   "source": [
    "# MAIN CODE"
   ],
   "cell_type": "markdown",
   "metadata": {}
  },
  {
   "cell_type": "code",
   "execution_count": 2,
   "metadata": {},
   "outputs": [],
   "source": [
    "#Locating the main HTML block to scrape\n",
    "\n",
    "url = \"https://www.marketwatch.com/investing/stock/bris?countrycode=ID\"\n",
    "page = requests.get(url)\n",
    "soup = BeautifulSoup(page.text, 'lxml')\n",
    "containers = soup.find_all('li', {'class': 'kv__item'})"
   ]
  },
  {
   "cell_type": "code",
   "execution_count": 3,
   "metadata": {},
   "outputs": [],
   "source": [
    "#Scraping through Container & Writing to .txt file\n",
    "\n",
    "with open('BRIS Market Watch.txt', 'w') as creator:\n",
    "    for i in containers:\n",
    "        name = i.contents[1].text\n",
    "        value = i.contents[3].text\n",
    "        creator.write(f'{name} : {value} \\n')"
   ]
  },
  {
   "source": [
    "# ADDITIONAL\n",
    "## Instead of writing result to .txt file, we're gonna store it into list"
   ],
   "cell_type": "markdown",
   "metadata": {}
  },
  {
   "cell_type": "code",
   "execution_count": 4,
   "metadata": {},
   "outputs": [],
   "source": [
    "#Scraping through Container & Storing the result to list\n",
    "\n",
    "name = []\n",
    "value = []\n",
    "\n",
    "for i in containers:\n",
    "    name.append(i.contents[1].text)\n",
    "    value.append(i.contents[3].text)"
   ]
  },
  {
   "cell_type": "code",
   "execution_count": 5,
   "metadata": {},
   "outputs": [
    {
     "output_type": "execute_result",
     "data": {
      "text/plain": [
       "['Open',\n",
       " 'Day Range',\n",
       " '52 Week Range',\n",
       " 'Market Cap',\n",
       " 'Shares Outstanding',\n",
       " 'Public Float',\n",
       " 'Beta',\n",
       " 'Rev. per Employee',\n",
       " 'P/E Ratio',\n",
       " 'EPS',\n",
       " 'Yield',\n",
       " 'Dividend',\n",
       " 'Ex-Dividend Date',\n",
       " 'Short Interest',\n",
       " '% of Float Shorted',\n",
       " 'Average Volume']"
      ]
     },
     "metadata": {},
     "execution_count": 5
    }
   ],
   "source": [
    "name"
   ]
  },
  {
   "cell_type": "code",
   "execution_count": 6,
   "metadata": {},
   "outputs": [
    {
     "output_type": "execute_result",
     "data": {
      "text/plain": [
       "['Rp2,700',\n",
       " '2,650 - 2,740',\n",
       " '135 - 3,980',\n",
       " 'Rp110.37T',\n",
       " '41.03B',\n",
       " '8.46B',\n",
       " '1.58',\n",
       " 'Rp1.597B',\n",
       " '105.75',\n",
       " 'Rp25',\n",
       " '0.00%',\n",
       " 'Rp1',\n",
       " 'May 9, 2019',\n",
       " 'N/A',\n",
       " 'N/A',\n",
       " '231.48M']"
      ]
     },
     "metadata": {},
     "execution_count": 6
    }
   ],
   "source": [
    "value"
   ]
  },
  {
   "source": [
    "# ADDITIONAL\n",
    "## Instead of written hardlined code to scrape \"BRIS\" stock, we're gonna let user to write their own stock preference"
   ],
   "cell_type": "markdown",
   "metadata": {}
  },
  {
   "cell_type": "code",
   "execution_count": 24,
   "metadata": {},
   "outputs": [
    {
     "output_type": "stream",
     "name": "stdout",
     "text": [
      "Open : Rp33,900\nDay Range : 33,800 - 34,250\n52 Week Range : 21,625 - 36,900\nMarket Cap : Rp841.35T\nShares Outstanding : N/A\nPublic Float : 9.78B\nBeta : 0.96\nRev. per Employee : N/A\nP/E Ratio : 30.40\nEPS : Rp1,123\nYield : 1.62%\nDividend : Rp98\nEx-Dividend Date : Dec 8, 2020\nShort Interest : N/A\n% of Float Shorted : N/A\nAverage Volume : 19.19M\n"
     ]
    }
   ],
   "source": [
    "#Additional\n",
    "#Scraping through Container & Storing the result to list\n",
    "\n",
    "stock = str(input()).lower()\n",
    "url = \"https://www.marketwatch.com/investing/stock/\"+stock+\"?countrycode=ID\"\n",
    "\n",
    "page = requests.get(url)\n",
    "soup = BeautifulSoup(page.text, 'lxml')\n",
    "containers = soup.find_all('li', {'class': 'kv__item'})\n",
    "\n",
    "name = []\n",
    "value = []\n",
    "\n",
    "for i in containers:\n",
    "    name.append(i.contents[1].text)\n",
    "    value.append(i.contents[3].text)\n",
    "\n",
    "for i in range(0,16):\n",
    "    print(name[i], \":\", value[i])"
   ]
  }
 ]
}