{
 "metadata": {
  "language_info": {
   "codemirror_mode": {
    "name": "ipython",
    "version": 3
   },
   "file_extension": ".py",
   "mimetype": "text/x-python",
   "name": "python",
   "nbconvert_exporter": "python",
   "pygments_lexer": "ipython3",
   "version": "3.7.6-final"
  },
  "orig_nbformat": 2,
  "kernelspec": {
   "name": "python3",
   "display_name": "Python 3",
   "language": "python"
  }
 },
 "nbformat": 4,
 "nbformat_minor": 2,
 "cells": [
  {
   "source": [
    "# MAIN CODE"
   ],
   "cell_type": "markdown",
   "metadata": {}
  },
  {
   "cell_type": "code",
   "execution_count": 4,
   "metadata": {},
   "outputs": [],
   "source": [
    "#Import Required Library\n",
    "\n",
    "import requests\n",
    "from bs4 import BeautifulSoup\n",
    "\n",
    "#Locating the table to scrape\n",
    "\n",
    "url = \"https://www.worldometers.info/world-population/\"\n",
    "page = requests.get(url)\n",
    "soup = BeautifulSoup(page.text, 'lxml')\n",
    "table = soup.find('table', {'class': 'table table-striped table-bordered table-hover table-condensed table-list'})\n",
    "table = table.find_all('tr')"
   ]
  },
  {
   "cell_type": "code",
   "execution_count": 7,
   "metadata": {},
   "outputs": [],
   "source": [
    "with open('Worldometer Word Population.txt', 'w') as creator:\n",
    "    for row in table:\n",
    "\n",
    "        #Scrape the Table Heading\n",
    "        headcolumn = row.find_all('th')\n",
    "        for entry in headcolumn:\n",
    "            creator.write(f'{entry.text} ')\n",
    "\n",
    "        #Scrape the Table Content\n",
    "        column = row.find_all('td')\n",
    "        for entry in column:\n",
    "            creator.write(f'{entry.text} ')\n",
    "        creator.write('\\n')"
   ]
  },
  {
   "source": [
    "# ADDITIONAL\n",
    "## Instead of writing result to .txt file, we're gonna store it into DataFrame"
   ],
   "cell_type": "markdown",
   "metadata": {}
  },
  {
   "cell_type": "code",
   "execution_count": 28,
   "metadata": {},
   "outputs": [],
   "source": [
    "#Import Required Library\n",
    "\n",
    "import requests\n",
    "from bs4 import BeautifulSoup\n",
    "\n",
    "import pandas as pd\n",
    "import numpy as np"
   ]
  },
  {
   "cell_type": "code",
   "execution_count": 29,
   "metadata": {},
   "outputs": [],
   "source": [
    "#Locating the table to scrape\n",
    "\n",
    "url = \"https://www.worldometers.info/world-population/\"\n",
    "page = requests.get(url)\n",
    "soup = BeautifulSoup(page.text, 'lxml')\n",
    "table = soup.find('table', {'class': 'table table-striped table-bordered table-hover table-condensed table-list'})\n",
    "table = table.find_all('tr')"
   ]
  },
  {
   "cell_type": "code",
   "execution_count": 30,
   "metadata": {
    "tags": []
   },
   "outputs": [],
   "source": [
    "headentry = []\n",
    "tableentry = []\n",
    "\n",
    "for row in table:\n",
    "    #Scrape the Table Heading\n",
    "    headcolumn = row.find_all('th')\n",
    "    for entry in headcolumn:\n",
    "        headentry.append(entry.text)\n",
    "\n",
    "    #Scrape the Table Content\n",
    "    column = row.find_all('td')\n",
    "    for entry in column:\n",
    "        tableentry.append(entry.text)"
   ]
  },
  {
   "cell_type": "code",
   "execution_count": 31,
   "metadata": {},
   "outputs": [
    {
     "output_type": "stream",
     "name": "stdout",
     "text": [
      "9\n18.0\n"
     ]
    }
   ],
   "source": [
    "#Calculating the dimension of array/DataFrame\n",
    "\n",
    "dfcol_num = len(headentry)\n",
    "dfrow_num = len(tableentry)/len(headentry)\n",
    "\n",
    "print(dfcol_num)\n",
    "print(dfrow_num)"
   ]
  },
  {
   "cell_type": "code",
   "execution_count": 33,
   "metadata": {},
   "outputs": [
    {
     "output_type": "execute_result",
     "data": {
      "text/plain": [
       "array([['2020', '7,794,798,739', '1.05 %', '81,330,639', '30.9', '2.47',\n",
       "        '52', '56.2 %', '4,378,993,944'],\n",
       "       ['2019', '7,713,468,100', '1.08 %', '82,377,060', '29.8', '2.51',\n",
       "        '52', '55.7 %', '4,299,438,618'],\n",
       "       ['2018', '7,631,091,040', '1.10 %', '83,232,115', '29.8', '2.51',\n",
       "        '51', '55.3 %', '4,219,817,318'],\n",
       "       ['2017', '7,547,858,925', '1.12 %', '83,836,876', '29.8', '2.51',\n",
       "        '51', '54.9 %', '4,140,188,594'],\n",
       "       ['2016', '7,464,022,049', '1.14 %', '84,224,910', '29.8', '2.51',\n",
       "        '50', '54.4 %', '4,060,652,683'],\n",
       "       ['2015', '7,379,797,139', '1.19 %', '84,594,707', '30', '2.52',\n",
       "        '50', '54.0 %', '3,981,497,663'],\n",
       "       ['2010', '6,956,823,603', '1.24 %', '82,983,315', '28', '2.58',\n",
       "        '47', '51.7 %', '3,594,868,146'],\n",
       "       ['2005', '6,541,907,027', '1.26 %', '79,682,641', '27', '2.65',\n",
       "        '44', '49.2 %', '3,215,905,863'],\n",
       "       ['2000', '6,143,493,823', '1.35 %', '79,856,169', '26', '2.78',\n",
       "        '41', '46.7 %', '2,868,307,513'],\n",
       "       ['1995', '5,744,212,979', '1.52 %', '83,396,384', '25', '3.01',\n",
       "        '39', '44.8 %', '2,575,505,235'],\n",
       "       ['1990', '5,327,231,061', '1.81 %', '91,261,864', '24', '3.44',\n",
       "        '36', '43.0 %', '2,290,228,096'],\n",
       "       ['1985', '4,870,921,740', '1.79 %', '82,583,645', '23', '3.59',\n",
       "        '33', '41.2 %', '2,007,939,063'],\n",
       "       ['1980', '4,458,003,514', '1.79 %', '75,704,582', '23', '3.86',\n",
       "        '30', '39.3 %', '1,754,201,029'],\n",
       "       ['1975', '4,079,480,606', '1.97 %', '75,808,712', '22', '4.47',\n",
       "        '27', '37.7 %', '1,538,624,994'],\n",
       "       ['1970', '3,700,437,046', '2.07 %', '72,170,690', '22', '4.93',\n",
       "        '25', '36.6 %', '1,354,215,496'],\n",
       "       ['1965', '3,339,583,597', '1.93 %', '60,926,770', '22', '5.02',\n",
       "        '22', 'N.A.', 'N.A.'],\n",
       "       ['1960', '3,034,949,748', '1.82 %', '52,385,962', '23', '4.90',\n",
       "        '20', '33.7 %', '1,023,845,517'],\n",
       "       ['1955', '2,773,019,936', '1.80 %', '47,317,757', '23', '4.97',\n",
       "        '19', 'N.A.', 'N.A.']], dtype='<U13')"
      ]
     },
     "metadata": {},
     "execution_count": 33
    }
   ],
   "source": [
    "#Converting list into array, then reshape it\n",
    "\n",
    "pop_array = np.array(tableentry)\n",
    "pop_reshape = np.reshape(np_array,(int(dfrow_num),dfcol_num))\n",
    "pop_reshape"
   ]
  },
  {
   "cell_type": "code",
   "execution_count": 34,
   "metadata": {},
   "outputs": [
    {
     "output_type": "execute_result",
     "data": {
      "text/plain": [
       "   Year (July 1)      Population Yearly %  Change Yearly Change Median Age  \\\n",
       "0            2020  7,794,798,739           1.05 %    81,330,639       30.9   \n",
       "1            2019  7,713,468,100           1.08 %    82,377,060       29.8   \n",
       "2            2018  7,631,091,040           1.10 %    83,232,115       29.8   \n",
       "3            2017  7,547,858,925           1.12 %    83,836,876       29.8   \n",
       "4            2016  7,464,022,049           1.14 %    84,224,910       29.8   \n",
       "5            2015  7,379,797,139           1.19 %    84,594,707         30   \n",
       "6            2010  6,956,823,603           1.24 %    82,983,315         28   \n",
       "7            2005  6,541,907,027           1.26 %    79,682,641         27   \n",
       "8            2000  6,143,493,823           1.35 %    79,856,169         26   \n",
       "9            1995  5,744,212,979           1.52 %    83,396,384         25   \n",
       "10           1990  5,327,231,061           1.81 %    91,261,864         24   \n",
       "11           1985  4,870,921,740           1.79 %    82,583,645         23   \n",
       "12           1980  4,458,003,514           1.79 %    75,704,582         23   \n",
       "13           1975  4,079,480,606           1.97 %    75,808,712         22   \n",
       "14           1970  3,700,437,046           2.07 %    72,170,690         22   \n",
       "15           1965  3,339,583,597           1.93 %    60,926,770         22   \n",
       "16           1960  3,034,949,748           1.82 %    52,385,962         23   \n",
       "17           1955  2,773,019,936           1.80 %    47,317,757         23   \n",
       "\n",
       "   Fertility Rate Density (P/Km²) Urban Pop % Urban Population  \n",
       "0            2.47              52      56.2 %    4,378,993,944  \n",
       "1            2.51              52      55.7 %    4,299,438,618  \n",
       "2            2.51              51      55.3 %    4,219,817,318  \n",
       "3            2.51              51      54.9 %    4,140,188,594  \n",
       "4            2.51              50      54.4 %    4,060,652,683  \n",
       "5            2.52              50      54.0 %    3,981,497,663  \n",
       "6            2.58              47      51.7 %    3,594,868,146  \n",
       "7            2.65              44      49.2 %    3,215,905,863  \n",
       "8            2.78              41      46.7 %    2,868,307,513  \n",
       "9            3.01              39      44.8 %    2,575,505,235  \n",
       "10           3.44              36      43.0 %    2,290,228,096  \n",
       "11           3.59              33      41.2 %    2,007,939,063  \n",
       "12           3.86              30      39.3 %    1,754,201,029  \n",
       "13           4.47              27      37.7 %    1,538,624,994  \n",
       "14           4.93              25      36.6 %    1,354,215,496  \n",
       "15           5.02              22        N.A.             N.A.  \n",
       "16           4.90              20      33.7 %    1,023,845,517  \n",
       "17           4.97              19        N.A.             N.A.  "
      ],
      "text/html": "<div>\n<style scoped>\n    .dataframe tbody tr th:only-of-type {\n        vertical-align: middle;\n    }\n\n    .dataframe tbody tr th {\n        vertical-align: top;\n    }\n\n    .dataframe thead th {\n        text-align: right;\n    }\n</style>\n<table border=\"1\" class=\"dataframe\">\n  <thead>\n    <tr style=\"text-align: right;\">\n      <th></th>\n      <th>Year (July 1)</th>\n      <th>Population</th>\n      <th>Yearly %  Change</th>\n      <th>Yearly Change</th>\n      <th>Median Age</th>\n      <th>Fertility Rate</th>\n      <th>Density (P/Km²)</th>\n      <th>Urban Pop %</th>\n      <th>Urban Population</th>\n    </tr>\n  </thead>\n  <tbody>\n    <tr>\n      <th>0</th>\n      <td>2020</td>\n      <td>7,794,798,739</td>\n      <td>1.05 %</td>\n      <td>81,330,639</td>\n      <td>30.9</td>\n      <td>2.47</td>\n      <td>52</td>\n      <td>56.2 %</td>\n      <td>4,378,993,944</td>\n    </tr>\n    <tr>\n      <th>1</th>\n      <td>2019</td>\n      <td>7,713,468,100</td>\n      <td>1.08 %</td>\n      <td>82,377,060</td>\n      <td>29.8</td>\n      <td>2.51</td>\n      <td>52</td>\n      <td>55.7 %</td>\n      <td>4,299,438,618</td>\n    </tr>\n    <tr>\n      <th>2</th>\n      <td>2018</td>\n      <td>7,631,091,040</td>\n      <td>1.10 %</td>\n      <td>83,232,115</td>\n      <td>29.8</td>\n      <td>2.51</td>\n      <td>51</td>\n      <td>55.3 %</td>\n      <td>4,219,817,318</td>\n    </tr>\n    <tr>\n      <th>3</th>\n      <td>2017</td>\n      <td>7,547,858,925</td>\n      <td>1.12 %</td>\n      <td>83,836,876</td>\n      <td>29.8</td>\n      <td>2.51</td>\n      <td>51</td>\n      <td>54.9 %</td>\n      <td>4,140,188,594</td>\n    </tr>\n    <tr>\n      <th>4</th>\n      <td>2016</td>\n      <td>7,464,022,049</td>\n      <td>1.14 %</td>\n      <td>84,224,910</td>\n      <td>29.8</td>\n      <td>2.51</td>\n      <td>50</td>\n      <td>54.4 %</td>\n      <td>4,060,652,683</td>\n    </tr>\n    <tr>\n      <th>5</th>\n      <td>2015</td>\n      <td>7,379,797,139</td>\n      <td>1.19 %</td>\n      <td>84,594,707</td>\n      <td>30</td>\n      <td>2.52</td>\n      <td>50</td>\n      <td>54.0 %</td>\n      <td>3,981,497,663</td>\n    </tr>\n    <tr>\n      <th>6</th>\n      <td>2010</td>\n      <td>6,956,823,603</td>\n      <td>1.24 %</td>\n      <td>82,983,315</td>\n      <td>28</td>\n      <td>2.58</td>\n      <td>47</td>\n      <td>51.7 %</td>\n      <td>3,594,868,146</td>\n    </tr>\n    <tr>\n      <th>7</th>\n      <td>2005</td>\n      <td>6,541,907,027</td>\n      <td>1.26 %</td>\n      <td>79,682,641</td>\n      <td>27</td>\n      <td>2.65</td>\n      <td>44</td>\n      <td>49.2 %</td>\n      <td>3,215,905,863</td>\n    </tr>\n    <tr>\n      <th>8</th>\n      <td>2000</td>\n      <td>6,143,493,823</td>\n      <td>1.35 %</td>\n      <td>79,856,169</td>\n      <td>26</td>\n      <td>2.78</td>\n      <td>41</td>\n      <td>46.7 %</td>\n      <td>2,868,307,513</td>\n    </tr>\n    <tr>\n      <th>9</th>\n      <td>1995</td>\n      <td>5,744,212,979</td>\n      <td>1.52 %</td>\n      <td>83,396,384</td>\n      <td>25</td>\n      <td>3.01</td>\n      <td>39</td>\n      <td>44.8 %</td>\n      <td>2,575,505,235</td>\n    </tr>\n    <tr>\n      <th>10</th>\n      <td>1990</td>\n      <td>5,327,231,061</td>\n      <td>1.81 %</td>\n      <td>91,261,864</td>\n      <td>24</td>\n      <td>3.44</td>\n      <td>36</td>\n      <td>43.0 %</td>\n      <td>2,290,228,096</td>\n    </tr>\n    <tr>\n      <th>11</th>\n      <td>1985</td>\n      <td>4,870,921,740</td>\n      <td>1.79 %</td>\n      <td>82,583,645</td>\n      <td>23</td>\n      <td>3.59</td>\n      <td>33</td>\n      <td>41.2 %</td>\n      <td>2,007,939,063</td>\n    </tr>\n    <tr>\n      <th>12</th>\n      <td>1980</td>\n      <td>4,458,003,514</td>\n      <td>1.79 %</td>\n      <td>75,704,582</td>\n      <td>23</td>\n      <td>3.86</td>\n      <td>30</td>\n      <td>39.3 %</td>\n      <td>1,754,201,029</td>\n    </tr>\n    <tr>\n      <th>13</th>\n      <td>1975</td>\n      <td>4,079,480,606</td>\n      <td>1.97 %</td>\n      <td>75,808,712</td>\n      <td>22</td>\n      <td>4.47</td>\n      <td>27</td>\n      <td>37.7 %</td>\n      <td>1,538,624,994</td>\n    </tr>\n    <tr>\n      <th>14</th>\n      <td>1970</td>\n      <td>3,700,437,046</td>\n      <td>2.07 %</td>\n      <td>72,170,690</td>\n      <td>22</td>\n      <td>4.93</td>\n      <td>25</td>\n      <td>36.6 %</td>\n      <td>1,354,215,496</td>\n    </tr>\n    <tr>\n      <th>15</th>\n      <td>1965</td>\n      <td>3,339,583,597</td>\n      <td>1.93 %</td>\n      <td>60,926,770</td>\n      <td>22</td>\n      <td>5.02</td>\n      <td>22</td>\n      <td>N.A.</td>\n      <td>N.A.</td>\n    </tr>\n    <tr>\n      <th>16</th>\n      <td>1960</td>\n      <td>3,034,949,748</td>\n      <td>1.82 %</td>\n      <td>52,385,962</td>\n      <td>23</td>\n      <td>4.90</td>\n      <td>20</td>\n      <td>33.7 %</td>\n      <td>1,023,845,517</td>\n    </tr>\n    <tr>\n      <th>17</th>\n      <td>1955</td>\n      <td>2,773,019,936</td>\n      <td>1.80 %</td>\n      <td>47,317,757</td>\n      <td>23</td>\n      <td>4.97</td>\n      <td>19</td>\n      <td>N.A.</td>\n      <td>N.A.</td>\n    </tr>\n  </tbody>\n</table>\n</div>"
     },
     "metadata": {},
     "execution_count": 34
    }
   ],
   "source": [
    "#Make the DataFrame\n",
    "\n",
    "df = pd.DataFrame(np_reshape, columns=headentry)\n",
    "df"
   ]
  }
 ]
}